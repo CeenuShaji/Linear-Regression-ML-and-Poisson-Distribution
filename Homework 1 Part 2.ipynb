{
 "cells": [
  {
   "cell_type": "markdown",
   "metadata": {},
   "source": [
    "# Homework 1 Part 2\n",
    "\n",
    "This is an individual assignment.\n",
    "\n",
    "**Due: Monday, September 26 @ 11:59pm**\n",
    "\n",
    "---"
   ]
  },
  {
   "cell_type": "code",
   "execution_count": null,
   "metadata": {},
   "outputs": [],
   "source": [
    "# import all libraries and magics\n",
    "\n",
    "\n"
   ]
  },
  {
   "cell_type": "markdown",
   "metadata": {},
   "source": [
    "# Problem 1 (22.5 points)\n",
    "\n",
    "Consider the diabetes data:"
   ]
  },
  {
   "cell_type": "code",
   "execution_count": null,
   "metadata": {},
   "outputs": [],
   "source": [
    "from sklearn.datasets import load_diabetes\n",
    "\n",
    "diabetes = load_diabetes(return_X_y=False)\n",
    "print(diabetes.DESCR)"
   ]
  },
  {
   "cell_type": "markdown",
   "metadata": {},
   "source": [
    "This dataset is already described in the **feature space**. Each input sample $x_i$ is described as 10-dimensional feature vctor $\\phi(x_i)$. The features correspond to: age, sex, bmi, bp, s1, s2, s3, s4, s5 and s6 measurements (read the description above for more details). The target variable corresponds a measure of diabetes disease progression one year after baseline."
   ]
  },
  {
   "cell_type": "markdown",
   "metadata": {},
   "source": [
    "Let's load the data as a ```pandas``` dataframe:"
   ]
  },
  {
   "cell_type": "code",
   "execution_count": null,
   "metadata": {},
   "outputs": [],
   "source": [
    "import numpy as np\n",
    "import pandas as pd\n",
    "\n",
    "df_diabetes = pd.DataFrame(data=np.hstack((diabetes.target[:,np.newaxis],diabetes.data)), \n",
    "                  columns=['Target']+diabetes.feature_names)\n",
    "\n",
    "df_diabetes"
   ]
  },
  {
   "cell_type": "markdown",
   "metadata": {},
   "source": [
    "The goal is to fit a linear regression model on the provided features, i.e., the model is of the form:\n",
    "\n",
    "$$y(x) = w_0 + w_1\\phi_1(x) + w_2\\phi_2(x) + w_3\\phi_3(x) + \\dots + w_{10}\\phi_{10}(x)$$\n",
    "\n",
    "where $w_0$ is the bias (or intercept) coefficient and all other $w_i, i=1,\\dots,10$ correspond to the coefficient associated with feature $\\phi_i$ (age, sex, bmi, bp, etc.)."
   ]
  },
  {
   "cell_type": "markdown",
   "metadata": {},
   "source": [
    "## Questions\n",
    "\n",
    "1. Randomly partition the data into training (70%) and test sets (30%).\n",
    "\n",
    "2. Use a 5-fold cross-validation strategy to determine the hyperparameter values to fit a linear regression model with ridge regularization for this dataset. Show and document your work.\n",
    "\n",
    "3. Evaluate performance in the test set.\n",
    "\n",
    "4. Determine the final value for the intercept and coefficients of the linear regression model. Plot all 11 values as a ```stem``` plot. \n",
    "\n",
    "5. Based on this plot, which input variable (also referred to the independent variable) has the most contribution for predicting the target variable (also referred to the dependent variable)?"
   ]
  },
  {
   "cell_type": "code",
   "execution_count": null,
   "metadata": {},
   "outputs": [],
   "source": []
  },
  {
   "cell_type": "code",
   "execution_count": null,
   "metadata": {},
   "outputs": [],
   "source": []
  },
  {
   "cell_type": "code",
   "execution_count": null,
   "metadata": {},
   "outputs": [],
   "source": []
  },
  {
   "cell_type": "code",
   "execution_count": null,
   "metadata": {},
   "outputs": [],
   "source": []
  },
  {
   "cell_type": "code",
   "execution_count": null,
   "metadata": {},
   "outputs": [],
   "source": []
  },
  {
   "cell_type": "code",
   "execution_count": null,
   "metadata": {},
   "outputs": [],
   "source": []
  },
  {
   "cell_type": "markdown",
   "metadata": {},
   "source": [
    "___"
   ]
  },
  {
   "cell_type": "markdown",
   "metadata": {},
   "source": [
    "# Problem 2 (25 points)\n",
    "\n",
    "Suppose that a taxi company wants to estimate the average number of trips per hour for the upcoming weekend in Downtown Gainesville. The company is working under the assumption that the number of passengers can be modeled with a Poisson random variable (RV) with parameter $\\lambda$ ($\\lambda>0$).\n",
    "\n",
    "* The poisson RV with parameter $\\lambda$ has the following probability mass function (PMF): $p(x) = \\frac{\\lambda^x e^{-\\lambda}}{x!}$.\n",
    "\n",
    "The company's engineers decide to use a Gamma RV with parameters $\\alpha=5$ and $\\beta=0.5$ as the prior probability for the unknown parameter $\\lambda$.\n",
    "\n",
    "* The Gamma RV with parameters $\\alpha$ and $\\beta$ ($\\alpha,\\beta>0$) has the following probability density function: $f(\\lambda)=\\frac{\\beta^{\\alpha}}{\\Gamma(\\alpha)} \\lambda^{\\alpha-1} e^{-\\beta\\lambda}$.\n",
    "\n",
    "Suppose that you have a set of data with 10 samples:\n",
    "\\begin{align*}\n",
    "x=[12,  5, 10, 10,  7, 17, 6, 11, 9, 9]\n",
    "\\end{align*}\n",
    "\n",
    "Answer the following questions:\n",
    "\n",
    "1. Compute the MLE estimate for $\\lambda$. Show all your work.\n",
    "\n",
    "2. Compute the MAP estimate for $\\lambda$. Show all your work.\n",
    "\n",
    "3. Does Poisson-Gamma form a prior conjugate relationship? Provide the pseudo-code for online updated of the prior parameters.\n",
    "\n",
    "4. Suppose the dataset ```hourly_trips.npy``` is the dataset coming in hourly (one sample at a time). Use this data to perform online update of the prior parameters. Start with an initial guess of $\\alpha=3$ and $\\beta=1$. Include a plot showing the estimated value for $\\lambda$ (using MLE and MAP) as data samples are received. (The true value is $\\lambda=10$.)"
   ]
  },
  {
   "cell_type": "code",
   "execution_count": null,
   "metadata": {},
   "outputs": [],
   "source": []
  },
  {
   "cell_type": "code",
   "execution_count": null,
   "metadata": {},
   "outputs": [],
   "source": []
  },
  {
   "cell_type": "code",
   "execution_count": null,
   "metadata": {},
   "outputs": [],
   "source": []
  },
  {
   "cell_type": "code",
   "execution_count": null,
   "metadata": {},
   "outputs": [],
   "source": []
  },
  {
   "cell_type": "code",
   "execution_count": null,
   "metadata": {},
   "outputs": [],
   "source": []
  },
  {
   "cell_type": "code",
   "execution_count": null,
   "metadata": {},
   "outputs": [],
   "source": []
  },
  {
   "cell_type": "markdown",
   "metadata": {},
   "source": [
    "___\n",
    "\n",
    "# Submit Your Solution\n",
    "\n",
    "Confirm that you've successfully completed the assignment.\n",
    "\n",
    "Along with the Notebook, include a PDF of the notebook with your solutions.\n",
    "\n",
    "```add``` and ```commit``` the final version of your work, and ```push``` your code to your GitHub repository.\n",
    "\n",
    "Submit the URL of your GitHub Repository as your assignment submission on Canvas.\n",
    "\n",
    "___"
   ]
  }
 ],
 "metadata": {
  "kernelspec": {
   "display_name": "Python 3 (ipykernel)",
   "language": "python",
   "name": "python3"
  },
  "language_info": {
   "codemirror_mode": {
    "name": "ipython",
    "version": 3
   },
   "file_extension": ".py",
   "mimetype": "text/x-python",
   "name": "python",
   "nbconvert_exporter": "python",
   "pygments_lexer": "ipython3",
   "version": "3.9.12"
  },
  "latex_envs": {
   "LaTeX_envs_menu_present": true,
   "autoclose": false,
   "autocomplete": true,
   "bibliofile": "biblio.bib",
   "cite_by": "apalike",
   "current_citInitial": 1,
   "eqLabelWithNumbers": true,
   "eqNumInitial": 1,
   "hotkeys": {
    "equation": "Ctrl-E",
    "itemize": "Ctrl-I"
   },
   "labels_anchors": false,
   "latex_user_defs": false,
   "report_style_numbering": false,
   "user_envs_cfg": false
  },
  "varInspector": {
   "cols": {
    "lenName": 16,
    "lenType": 16,
    "lenVar": 40
   },
   "kernels_config": {
    "python": {
     "delete_cmd_postfix": "",
     "delete_cmd_prefix": "del ",
     "library": "var_list.py",
     "varRefreshCmd": "print(var_dic_list())"
    },
    "r": {
     "delete_cmd_postfix": ") ",
     "delete_cmd_prefix": "rm(",
     "library": "var_list.r",
     "varRefreshCmd": "cat(var_dic_list()) "
    }
   },
   "types_to_exclude": [
    "module",
    "function",
    "builtin_function_or_method",
    "instance",
    "_Feature"
   ],
   "window_display": false
  }
 },
 "nbformat": 4,
 "nbformat_minor": 4
}
